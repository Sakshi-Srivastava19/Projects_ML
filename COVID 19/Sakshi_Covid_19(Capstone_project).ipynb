{
 "cells": [
  {
   "cell_type": "markdown",
   "metadata": {
    "id": "bFlE6vCFaGzg"
   },
   "source": [
    "# **Project : Analyzing the trends of COVID-19 with Python**\n"
   ]
  },
  {
   "cell_type": "markdown",
   "metadata": {
    "id": "aMYcSgFGaQsk"
   },
   "source": [
    "#Problem Statement:\n",
    "Given data about COVID-19 patients, write code to visualize the impact and\n",
    "analyze the trend of rate of infection and recovery as well as make predictions\n",
    "about the number of cases expected a week in future based on the current\n",
    "trends.\n",
    "#Dataset:\n",
    "CSV and Excel files containing data about the number of COVID-19 confirmed\n",
    "deaths and recovered patients both around the world and in India. Download Link\n",
    "#Guidelines:\n",
    "● Use pandas to accumulate data from multiple data files.\n",
    "\n",
    "● Use plotly (visualization library) to create interactive visualizations.\n",
    "\n",
    "● Use Facebook prophet library to make time series models.\n",
    "\n",
    "● Visualize the prediction by combining these technologies.\n"
   ]
  },
  {
   "cell_type": "code",
   "execution_count": 3,
   "metadata": {
    "id": "JFBO3m8CahwZ"
   },
   "outputs": [],
   "source": [
    "# Importing required Libraries :-\n",
    "\n",
    "import pandas as pd\n",
    "import numpy as np\n",
    "import matplotlib.pyplot as plt\n",
    "import seaborn as sns\n",
    "\n",
    "\n",
    "# Warnings\n",
    "\n",
    "import warnings\n",
    "warnings.filterwarnings('ignore')"
   ]
  },
  {
   "cell_type": "markdown",
   "metadata": {
    "id": "5DxVghjUfDz9"
   },
   "source": [
    "# Loading the Dataset :"
   ]
  },
  {
   "cell_type": "code",
   "execution_count": 6,
   "metadata": {
    "colab": {
     "base_uri": "https://localhost:8080/",
     "height": 423
    },
    "id": "Bl_4ZLGeajVX",
    "outputId": "8037d04a-1cf0-48d2-a453-7944b83010d4"
   },
   "outputs": [
    {
     "data": {
      "text/html": [
       "<div>\n",
       "<style scoped>\n",
       "    .dataframe tbody tr th:only-of-type {\n",
       "        vertical-align: middle;\n",
       "    }\n",
       "\n",
       "    .dataframe tbody tr th {\n",
       "        vertical-align: top;\n",
       "    }\n",
       "\n",
       "    .dataframe thead th {\n",
       "        text-align: right;\n",
       "    }\n",
       "</style>\n",
       "<table border=\"1\" class=\"dataframe\">\n",
       "  <thead>\n",
       "    <tr style=\"text-align: right;\">\n",
       "      <th></th>\n",
       "      <th>Province/State</th>\n",
       "      <th>Country/Region</th>\n",
       "      <th>Lat</th>\n",
       "      <th>Long</th>\n",
       "      <th>Date</th>\n",
       "      <th>Confirmed</th>\n",
       "      <th>Deaths</th>\n",
       "      <th>Recovered</th>\n",
       "      <th>Active</th>\n",
       "      <th>WHO Region</th>\n",
       "    </tr>\n",
       "  </thead>\n",
       "  <tbody>\n",
       "    <tr>\n",
       "      <th>0</th>\n",
       "      <td>NaN</td>\n",
       "      <td>Afghanistan</td>\n",
       "      <td>33.939110</td>\n",
       "      <td>67.709953</td>\n",
       "      <td>2020-01-22</td>\n",
       "      <td>0</td>\n",
       "      <td>0</td>\n",
       "      <td>0</td>\n",
       "      <td>0</td>\n",
       "      <td>Eastern Mediterranean</td>\n",
       "    </tr>\n",
       "    <tr>\n",
       "      <th>1</th>\n",
       "      <td>NaN</td>\n",
       "      <td>Albania</td>\n",
       "      <td>41.153300</td>\n",
       "      <td>20.168300</td>\n",
       "      <td>2020-01-22</td>\n",
       "      <td>0</td>\n",
       "      <td>0</td>\n",
       "      <td>0</td>\n",
       "      <td>0</td>\n",
       "      <td>Europe</td>\n",
       "    </tr>\n",
       "    <tr>\n",
       "      <th>2</th>\n",
       "      <td>NaN</td>\n",
       "      <td>Algeria</td>\n",
       "      <td>28.033900</td>\n",
       "      <td>1.659600</td>\n",
       "      <td>2020-01-22</td>\n",
       "      <td>0</td>\n",
       "      <td>0</td>\n",
       "      <td>0</td>\n",
       "      <td>0</td>\n",
       "      <td>Africa</td>\n",
       "    </tr>\n",
       "    <tr>\n",
       "      <th>3</th>\n",
       "      <td>NaN</td>\n",
       "      <td>Andorra</td>\n",
       "      <td>42.506300</td>\n",
       "      <td>1.521800</td>\n",
       "      <td>2020-01-22</td>\n",
       "      <td>0</td>\n",
       "      <td>0</td>\n",
       "      <td>0</td>\n",
       "      <td>0</td>\n",
       "      <td>Europe</td>\n",
       "    </tr>\n",
       "    <tr>\n",
       "      <th>4</th>\n",
       "      <td>NaN</td>\n",
       "      <td>Angola</td>\n",
       "      <td>-11.202700</td>\n",
       "      <td>17.873900</td>\n",
       "      <td>2020-01-22</td>\n",
       "      <td>0</td>\n",
       "      <td>0</td>\n",
       "      <td>0</td>\n",
       "      <td>0</td>\n",
       "      <td>Africa</td>\n",
       "    </tr>\n",
       "    <tr>\n",
       "      <th>...</th>\n",
       "      <td>...</td>\n",
       "      <td>...</td>\n",
       "      <td>...</td>\n",
       "      <td>...</td>\n",
       "      <td>...</td>\n",
       "      <td>...</td>\n",
       "      <td>...</td>\n",
       "      <td>...</td>\n",
       "      <td>...</td>\n",
       "      <td>...</td>\n",
       "    </tr>\n",
       "    <tr>\n",
       "      <th>49063</th>\n",
       "      <td>NaN</td>\n",
       "      <td>Sao Tome and Principe</td>\n",
       "      <td>0.186400</td>\n",
       "      <td>6.613100</td>\n",
       "      <td>2020-07-27</td>\n",
       "      <td>865</td>\n",
       "      <td>14</td>\n",
       "      <td>734</td>\n",
       "      <td>117</td>\n",
       "      <td>Africa</td>\n",
       "    </tr>\n",
       "    <tr>\n",
       "      <th>49064</th>\n",
       "      <td>NaN</td>\n",
       "      <td>Yemen</td>\n",
       "      <td>15.552727</td>\n",
       "      <td>48.516388</td>\n",
       "      <td>2020-07-27</td>\n",
       "      <td>1691</td>\n",
       "      <td>483</td>\n",
       "      <td>833</td>\n",
       "      <td>375</td>\n",
       "      <td>Eastern Mediterranean</td>\n",
       "    </tr>\n",
       "    <tr>\n",
       "      <th>49065</th>\n",
       "      <td>NaN</td>\n",
       "      <td>Comoros</td>\n",
       "      <td>-11.645500</td>\n",
       "      <td>43.333300</td>\n",
       "      <td>2020-07-27</td>\n",
       "      <td>354</td>\n",
       "      <td>7</td>\n",
       "      <td>328</td>\n",
       "      <td>19</td>\n",
       "      <td>Africa</td>\n",
       "    </tr>\n",
       "    <tr>\n",
       "      <th>49066</th>\n",
       "      <td>NaN</td>\n",
       "      <td>Tajikistan</td>\n",
       "      <td>38.861000</td>\n",
       "      <td>71.276100</td>\n",
       "      <td>2020-07-27</td>\n",
       "      <td>7235</td>\n",
       "      <td>60</td>\n",
       "      <td>6028</td>\n",
       "      <td>1147</td>\n",
       "      <td>Europe</td>\n",
       "    </tr>\n",
       "    <tr>\n",
       "      <th>49067</th>\n",
       "      <td>NaN</td>\n",
       "      <td>Lesotho</td>\n",
       "      <td>-29.610000</td>\n",
       "      <td>28.233600</td>\n",
       "      <td>2020-07-27</td>\n",
       "      <td>505</td>\n",
       "      <td>12</td>\n",
       "      <td>128</td>\n",
       "      <td>365</td>\n",
       "      <td>Africa</td>\n",
       "    </tr>\n",
       "  </tbody>\n",
       "</table>\n",
       "<p>49068 rows × 10 columns</p>\n",
       "</div>"
      ],
      "text/plain": [
       "      Province/State         Country/Region        Lat       Long        Date  \\\n",
       "0                NaN            Afghanistan  33.939110  67.709953  2020-01-22   \n",
       "1                NaN                Albania  41.153300  20.168300  2020-01-22   \n",
       "2                NaN                Algeria  28.033900   1.659600  2020-01-22   \n",
       "3                NaN                Andorra  42.506300   1.521800  2020-01-22   \n",
       "4                NaN                 Angola -11.202700  17.873900  2020-01-22   \n",
       "...              ...                    ...        ...        ...         ...   \n",
       "49063            NaN  Sao Tome and Principe   0.186400   6.613100  2020-07-27   \n",
       "49064            NaN                  Yemen  15.552727  48.516388  2020-07-27   \n",
       "49065            NaN                Comoros -11.645500  43.333300  2020-07-27   \n",
       "49066            NaN             Tajikistan  38.861000  71.276100  2020-07-27   \n",
       "49067            NaN                Lesotho -29.610000  28.233600  2020-07-27   \n",
       "\n",
       "       Confirmed  Deaths  Recovered  Active             WHO Region  \n",
       "0              0       0          0       0  Eastern Mediterranean  \n",
       "1              0       0          0       0                 Europe  \n",
       "2              0       0          0       0                 Africa  \n",
       "3              0       0          0       0                 Europe  \n",
       "4              0       0          0       0                 Africa  \n",
       "...          ...     ...        ...     ...                    ...  \n",
       "49063        865      14        734     117                 Africa  \n",
       "49064       1691     483        833     375  Eastern Mediterranean  \n",
       "49065        354       7        328      19                 Africa  \n",
       "49066       7235      60       6028    1147                 Europe  \n",
       "49067        505      12        128     365                 Africa  \n",
       "\n",
       "[49068 rows x 10 columns]"
      ]
     },
     "execution_count": 6,
     "metadata": {},
     "output_type": "execute_result"
    }
   ],
   "source": [
    "df=pd.read_csv(r\"C:\\Users\\hp\\OneDrive\\Desktop\\covid_19_clean_complete.csv\")\n",
    "df"
   ]
  },
  {
   "cell_type": "code",
   "execution_count": 12,
   "metadata": {
    "colab": {
     "base_uri": "https://localhost:8080/"
    },
    "id": "HVn58SKKY_Dz",
    "outputId": "6f98f1e3-010a-4d0c-eb85-fd20455eab4e"
   },
   "outputs": [
    {
     "name": "stdout",
     "output_type": "stream",
     "text": [
      "<class 'pandas.core.frame.DataFrame'>\n",
      "RangeIndex: 49068 entries, 0 to 49067\n",
      "Data columns (total 10 columns):\n",
      " #   Column          Non-Null Count  Dtype  \n",
      "---  ------          --------------  -----  \n",
      " 0   Province/State  14664 non-null  object \n",
      " 1   Country/Region  49068 non-null  object \n",
      " 2   Lat             49068 non-null  float64\n",
      " 3   Long            49068 non-null  float64\n",
      " 4   Date            49068 non-null  object \n",
      " 5   Confirmed       49068 non-null  int64  \n",
      " 6   Deaths          49068 non-null  int64  \n",
      " 7   Recovered       49068 non-null  int64  \n",
      " 8   Active          49068 non-null  int64  \n",
      " 9   WHO Region      49068 non-null  object \n",
      "dtypes: float64(2), int64(4), object(4)\n",
      "memory usage: 3.7+ MB\n"
     ]
    }
   ],
   "source": [
    "df.info()"
   ]
  },
  {
   "cell_type": "markdown",
   "metadata": {
    "id": "SCCYK-zSe-Sd"
   },
   "source": [
    "# Checking for Null values"
   ]
  },
  {
   "cell_type": "code",
   "execution_count": 15,
   "metadata": {
    "colab": {
     "base_uri": "https://localhost:8080/",
     "height": 397
    },
    "id": "9EySg5u4ajR_",
    "outputId": "56745217-7d3f-471d-8181-ad0319ca1953"
   },
   "outputs": [
    {
     "data": {
      "text/plain": [
       "Province/State    34404\n",
       "Country/Region        0\n",
       "Lat                   0\n",
       "Long                  0\n",
       "Date                  0\n",
       "Confirmed             0\n",
       "Deaths                0\n",
       "Recovered             0\n",
       "Active                0\n",
       "WHO Region            0\n",
       "dtype: int64"
      ]
     },
     "execution_count": 15,
     "metadata": {},
     "output_type": "execute_result"
    }
   ],
   "source": [
    "df.isnull().sum()"
   ]
  },
  {
   "cell_type": "markdown",
   "metadata": {
    "id": "a6k41GfqfKDp"
   },
   "source": [
    "# Dropping unnecessary ones :"
   ]
  },
  {
   "cell_type": "code",
   "execution_count": 18,
   "metadata": {
    "colab": {
     "base_uri": "https://localhost:8080/",
     "height": 423
    },
    "id": "oudS_SfCajPy",
    "outputId": "30f2f6f0-a6dd-47bf-d70f-d82d4211c82b"
   },
   "outputs": [
    {
     "data": {
      "text/html": [
       "<div>\n",
       "<style scoped>\n",
       "    .dataframe tbody tr th:only-of-type {\n",
       "        vertical-align: middle;\n",
       "    }\n",
       "\n",
       "    .dataframe tbody tr th {\n",
       "        vertical-align: top;\n",
       "    }\n",
       "\n",
       "    .dataframe thead th {\n",
       "        text-align: right;\n",
       "    }\n",
       "</style>\n",
       "<table border=\"1\" class=\"dataframe\">\n",
       "  <thead>\n",
       "    <tr style=\"text-align: right;\">\n",
       "      <th></th>\n",
       "      <th>Country/Region</th>\n",
       "      <th>Lat</th>\n",
       "      <th>Long</th>\n",
       "      <th>Date</th>\n",
       "      <th>Confirmed</th>\n",
       "      <th>Deaths</th>\n",
       "      <th>Recovered</th>\n",
       "      <th>Active</th>\n",
       "      <th>WHO Region</th>\n",
       "    </tr>\n",
       "  </thead>\n",
       "  <tbody>\n",
       "    <tr>\n",
       "      <th>0</th>\n",
       "      <td>Afghanistan</td>\n",
       "      <td>33.939110</td>\n",
       "      <td>67.709953</td>\n",
       "      <td>2020-01-22</td>\n",
       "      <td>0</td>\n",
       "      <td>0</td>\n",
       "      <td>0</td>\n",
       "      <td>0</td>\n",
       "      <td>Eastern Mediterranean</td>\n",
       "    </tr>\n",
       "    <tr>\n",
       "      <th>1</th>\n",
       "      <td>Albania</td>\n",
       "      <td>41.153300</td>\n",
       "      <td>20.168300</td>\n",
       "      <td>2020-01-22</td>\n",
       "      <td>0</td>\n",
       "      <td>0</td>\n",
       "      <td>0</td>\n",
       "      <td>0</td>\n",
       "      <td>Europe</td>\n",
       "    </tr>\n",
       "    <tr>\n",
       "      <th>2</th>\n",
       "      <td>Algeria</td>\n",
       "      <td>28.033900</td>\n",
       "      <td>1.659600</td>\n",
       "      <td>2020-01-22</td>\n",
       "      <td>0</td>\n",
       "      <td>0</td>\n",
       "      <td>0</td>\n",
       "      <td>0</td>\n",
       "      <td>Africa</td>\n",
       "    </tr>\n",
       "    <tr>\n",
       "      <th>3</th>\n",
       "      <td>Andorra</td>\n",
       "      <td>42.506300</td>\n",
       "      <td>1.521800</td>\n",
       "      <td>2020-01-22</td>\n",
       "      <td>0</td>\n",
       "      <td>0</td>\n",
       "      <td>0</td>\n",
       "      <td>0</td>\n",
       "      <td>Europe</td>\n",
       "    </tr>\n",
       "    <tr>\n",
       "      <th>4</th>\n",
       "      <td>Angola</td>\n",
       "      <td>-11.202700</td>\n",
       "      <td>17.873900</td>\n",
       "      <td>2020-01-22</td>\n",
       "      <td>0</td>\n",
       "      <td>0</td>\n",
       "      <td>0</td>\n",
       "      <td>0</td>\n",
       "      <td>Africa</td>\n",
       "    </tr>\n",
       "    <tr>\n",
       "      <th>...</th>\n",
       "      <td>...</td>\n",
       "      <td>...</td>\n",
       "      <td>...</td>\n",
       "      <td>...</td>\n",
       "      <td>...</td>\n",
       "      <td>...</td>\n",
       "      <td>...</td>\n",
       "      <td>...</td>\n",
       "      <td>...</td>\n",
       "    </tr>\n",
       "    <tr>\n",
       "      <th>49063</th>\n",
       "      <td>Sao Tome and Principe</td>\n",
       "      <td>0.186400</td>\n",
       "      <td>6.613100</td>\n",
       "      <td>2020-07-27</td>\n",
       "      <td>865</td>\n",
       "      <td>14</td>\n",
       "      <td>734</td>\n",
       "      <td>117</td>\n",
       "      <td>Africa</td>\n",
       "    </tr>\n",
       "    <tr>\n",
       "      <th>49064</th>\n",
       "      <td>Yemen</td>\n",
       "      <td>15.552727</td>\n",
       "      <td>48.516388</td>\n",
       "      <td>2020-07-27</td>\n",
       "      <td>1691</td>\n",
       "      <td>483</td>\n",
       "      <td>833</td>\n",
       "      <td>375</td>\n",
       "      <td>Eastern Mediterranean</td>\n",
       "    </tr>\n",
       "    <tr>\n",
       "      <th>49065</th>\n",
       "      <td>Comoros</td>\n",
       "      <td>-11.645500</td>\n",
       "      <td>43.333300</td>\n",
       "      <td>2020-07-27</td>\n",
       "      <td>354</td>\n",
       "      <td>7</td>\n",
       "      <td>328</td>\n",
       "      <td>19</td>\n",
       "      <td>Africa</td>\n",
       "    </tr>\n",
       "    <tr>\n",
       "      <th>49066</th>\n",
       "      <td>Tajikistan</td>\n",
       "      <td>38.861000</td>\n",
       "      <td>71.276100</td>\n",
       "      <td>2020-07-27</td>\n",
       "      <td>7235</td>\n",
       "      <td>60</td>\n",
       "      <td>6028</td>\n",
       "      <td>1147</td>\n",
       "      <td>Europe</td>\n",
       "    </tr>\n",
       "    <tr>\n",
       "      <th>49067</th>\n",
       "      <td>Lesotho</td>\n",
       "      <td>-29.610000</td>\n",
       "      <td>28.233600</td>\n",
       "      <td>2020-07-27</td>\n",
       "      <td>505</td>\n",
       "      <td>12</td>\n",
       "      <td>128</td>\n",
       "      <td>365</td>\n",
       "      <td>Africa</td>\n",
       "    </tr>\n",
       "  </tbody>\n",
       "</table>\n",
       "<p>49068 rows × 9 columns</p>\n",
       "</div>"
      ],
      "text/plain": [
       "              Country/Region        Lat       Long        Date  Confirmed  \\\n",
       "0                Afghanistan  33.939110  67.709953  2020-01-22          0   \n",
       "1                    Albania  41.153300  20.168300  2020-01-22          0   \n",
       "2                    Algeria  28.033900   1.659600  2020-01-22          0   \n",
       "3                    Andorra  42.506300   1.521800  2020-01-22          0   \n",
       "4                     Angola -11.202700  17.873900  2020-01-22          0   \n",
       "...                      ...        ...        ...         ...        ...   \n",
       "49063  Sao Tome and Principe   0.186400   6.613100  2020-07-27        865   \n",
       "49064                  Yemen  15.552727  48.516388  2020-07-27       1691   \n",
       "49065                Comoros -11.645500  43.333300  2020-07-27        354   \n",
       "49066             Tajikistan  38.861000  71.276100  2020-07-27       7235   \n",
       "49067                Lesotho -29.610000  28.233600  2020-07-27        505   \n",
       "\n",
       "       Deaths  Recovered  Active             WHO Region  \n",
       "0           0          0       0  Eastern Mediterranean  \n",
       "1           0          0       0                 Europe  \n",
       "2           0          0       0                 Africa  \n",
       "3           0          0       0                 Europe  \n",
       "4           0          0       0                 Africa  \n",
       "...       ...        ...     ...                    ...  \n",
       "49063      14        734     117                 Africa  \n",
       "49064     483        833     375  Eastern Mediterranean  \n",
       "49065       7        328      19                 Africa  \n",
       "49066      60       6028    1147                 Europe  \n",
       "49067      12        128     365                 Africa  \n",
       "\n",
       "[49068 rows x 9 columns]"
      ]
     },
     "execution_count": 18,
     "metadata": {},
     "output_type": "execute_result"
    }
   ],
   "source": [
    "# as removing the null values from \"province/state\" is not good idea as some null values consist data in other fields ,\n",
    "# therefore removing the \"province/state\" columns itself.\n",
    "\n",
    "\n",
    "df=df.drop(['Province/State'],axis=1)\n",
    "df"
   ]
  },
  {
   "cell_type": "markdown",
   "metadata": {
    "id": "ww3xANHvfWca"
   },
   "source": [
    "# Renaming Required :"
   ]
  },
  {
   "cell_type": "code",
   "execution_count": 21,
   "metadata": {
    "id": "59KfYxJwajNb"
   },
   "outputs": [],
   "source": [
    "# renaming the column \"Country/Region\" to country to make things simpler.\n",
    "\n",
    "\n",
    "df=df.rename(columns={'Country/Region':'Country'})"
   ]
  },
  {
   "cell_type": "markdown",
   "metadata": {
    "id": "aEj11KFGfbGv"
   },
   "source": [
    "# Duplicate Check :"
   ]
  },
  {
   "cell_type": "code",
   "execution_count": 24,
   "metadata": {
    "colab": {
     "base_uri": "https://localhost:8080/"
    },
    "id": "iR41VB7lajK5",
    "outputId": "b2092405-61ab-4bc9-e71a-44a3f56c4645"
   },
   "outputs": [
    {
     "data": {
      "text/plain": [
       "0"
      ]
     },
     "execution_count": 24,
     "metadata": {},
     "output_type": "execute_result"
    }
   ],
   "source": [
    "# checking the duplicates\n",
    "\n",
    "df.duplicated().sum()"
   ]
  },
  {
   "cell_type": "markdown",
   "metadata": {
    "id": "BhF7qWJTZdUN"
   },
   "source": [
    "# Let's see the top populated rows with max date :"
   ]
  },
  {
   "cell_type": "code",
   "execution_count": 27,
   "metadata": {
    "colab": {
     "base_uri": "https://localhost:8080/",
     "height": 423
    },
    "id": "AYoSwZX0ZPAg",
    "outputId": "063b2e86-6e74-4d61-f187-ee1dc2ed86d1"
   },
   "outputs": [
    {
     "data": {
      "text/html": [
       "<div>\n",
       "<style scoped>\n",
       "    .dataframe tbody tr th:only-of-type {\n",
       "        vertical-align: middle;\n",
       "    }\n",
       "\n",
       "    .dataframe tbody tr th {\n",
       "        vertical-align: top;\n",
       "    }\n",
       "\n",
       "    .dataframe thead th {\n",
       "        text-align: right;\n",
       "    }\n",
       "</style>\n",
       "<table border=\"1\" class=\"dataframe\">\n",
       "  <thead>\n",
       "    <tr style=\"text-align: right;\">\n",
       "      <th></th>\n",
       "      <th>Country</th>\n",
       "      <th>Confirmed</th>\n",
       "      <th>Deaths</th>\n",
       "      <th>Recovered</th>\n",
       "      <th>Active</th>\n",
       "    </tr>\n",
       "  </thead>\n",
       "  <tbody>\n",
       "    <tr>\n",
       "      <th>0</th>\n",
       "      <td>Afghanistan</td>\n",
       "      <td>36263</td>\n",
       "      <td>1269</td>\n",
       "      <td>25198</td>\n",
       "      <td>9796</td>\n",
       "    </tr>\n",
       "    <tr>\n",
       "      <th>1</th>\n",
       "      <td>Albania</td>\n",
       "      <td>4880</td>\n",
       "      <td>144</td>\n",
       "      <td>2745</td>\n",
       "      <td>1991</td>\n",
       "    </tr>\n",
       "    <tr>\n",
       "      <th>2</th>\n",
       "      <td>Algeria</td>\n",
       "      <td>27973</td>\n",
       "      <td>1163</td>\n",
       "      <td>18837</td>\n",
       "      <td>7973</td>\n",
       "    </tr>\n",
       "    <tr>\n",
       "      <th>3</th>\n",
       "      <td>Andorra</td>\n",
       "      <td>907</td>\n",
       "      <td>52</td>\n",
       "      <td>803</td>\n",
       "      <td>52</td>\n",
       "    </tr>\n",
       "    <tr>\n",
       "      <th>4</th>\n",
       "      <td>Angola</td>\n",
       "      <td>950</td>\n",
       "      <td>41</td>\n",
       "      <td>242</td>\n",
       "      <td>667</td>\n",
       "    </tr>\n",
       "    <tr>\n",
       "      <th>...</th>\n",
       "      <td>...</td>\n",
       "      <td>...</td>\n",
       "      <td>...</td>\n",
       "      <td>...</td>\n",
       "      <td>...</td>\n",
       "    </tr>\n",
       "    <tr>\n",
       "      <th>182</th>\n",
       "      <td>West Bank and Gaza</td>\n",
       "      <td>10621</td>\n",
       "      <td>78</td>\n",
       "      <td>3752</td>\n",
       "      <td>6791</td>\n",
       "    </tr>\n",
       "    <tr>\n",
       "      <th>183</th>\n",
       "      <td>Western Sahara</td>\n",
       "      <td>10</td>\n",
       "      <td>1</td>\n",
       "      <td>8</td>\n",
       "      <td>1</td>\n",
       "    </tr>\n",
       "    <tr>\n",
       "      <th>184</th>\n",
       "      <td>Yemen</td>\n",
       "      <td>1691</td>\n",
       "      <td>483</td>\n",
       "      <td>833</td>\n",
       "      <td>375</td>\n",
       "    </tr>\n",
       "    <tr>\n",
       "      <th>185</th>\n",
       "      <td>Zambia</td>\n",
       "      <td>4552</td>\n",
       "      <td>140</td>\n",
       "      <td>2815</td>\n",
       "      <td>1597</td>\n",
       "    </tr>\n",
       "    <tr>\n",
       "      <th>186</th>\n",
       "      <td>Zimbabwe</td>\n",
       "      <td>2704</td>\n",
       "      <td>36</td>\n",
       "      <td>542</td>\n",
       "      <td>2126</td>\n",
       "    </tr>\n",
       "  </tbody>\n",
       "</table>\n",
       "<p>187 rows × 5 columns</p>\n",
       "</div>"
      ],
      "text/plain": [
       "                Country  Confirmed  Deaths  Recovered  Active\n",
       "0           Afghanistan      36263    1269      25198    9796\n",
       "1               Albania       4880     144       2745    1991\n",
       "2               Algeria      27973    1163      18837    7973\n",
       "3               Andorra        907      52        803      52\n",
       "4                Angola        950      41        242     667\n",
       "..                  ...        ...     ...        ...     ...\n",
       "182  West Bank and Gaza      10621      78       3752    6791\n",
       "183      Western Sahara         10       1          8       1\n",
       "184               Yemen       1691     483        833     375\n",
       "185              Zambia       4552     140       2815    1597\n",
       "186            Zimbabwe       2704      36        542    2126\n",
       "\n",
       "[187 rows x 5 columns]"
      ]
     },
     "execution_count": 27,
     "metadata": {},
     "output_type": "execute_result"
    }
   ],
   "source": [
    "top=df[df['Date']=='2020-07-27']\n",
    "\n",
    "top.groupby(by='Country')[['Confirmed','Deaths','Recovered','Active']].sum().reset_index()\n"
   ]
  },
  {
   "cell_type": "markdown",
   "metadata": {
    "id": "JsTFDgYhdKgs"
   },
   "source": [
    "# Seeing all confirmed cases in the dataset :"
   ]
  },
  {
   "cell_type": "code",
   "execution_count": 30,
   "metadata": {
    "colab": {
     "base_uri": "https://localhost:8080/",
     "height": 423
    },
    "id": "Y-S6bMzoZO8_",
    "outputId": "658f21f2-61ad-4243-d304-045fa036ec02"
   },
   "outputs": [
    {
     "data": {
      "text/html": [
       "<div>\n",
       "<style scoped>\n",
       "    .dataframe tbody tr th:only-of-type {\n",
       "        vertical-align: middle;\n",
       "    }\n",
       "\n",
       "    .dataframe tbody tr th {\n",
       "        vertical-align: top;\n",
       "    }\n",
       "\n",
       "    .dataframe thead th {\n",
       "        text-align: right;\n",
       "    }\n",
       "</style>\n",
       "<table border=\"1\" class=\"dataframe\">\n",
       "  <thead>\n",
       "    <tr style=\"text-align: right;\">\n",
       "      <th></th>\n",
       "      <th>Date</th>\n",
       "      <th>Confirmed</th>\n",
       "    </tr>\n",
       "  </thead>\n",
       "  <tbody>\n",
       "    <tr>\n",
       "      <th>0</th>\n",
       "      <td>2020-01-22</td>\n",
       "      <td>555</td>\n",
       "    </tr>\n",
       "    <tr>\n",
       "      <th>1</th>\n",
       "      <td>2020-01-23</td>\n",
       "      <td>654</td>\n",
       "    </tr>\n",
       "    <tr>\n",
       "      <th>2</th>\n",
       "      <td>2020-01-24</td>\n",
       "      <td>941</td>\n",
       "    </tr>\n",
       "    <tr>\n",
       "      <th>3</th>\n",
       "      <td>2020-01-25</td>\n",
       "      <td>1434</td>\n",
       "    </tr>\n",
       "    <tr>\n",
       "      <th>4</th>\n",
       "      <td>2020-01-26</td>\n",
       "      <td>2118</td>\n",
       "    </tr>\n",
       "    <tr>\n",
       "      <th>...</th>\n",
       "      <td>...</td>\n",
       "      <td>...</td>\n",
       "    </tr>\n",
       "    <tr>\n",
       "      <th>183</th>\n",
       "      <td>2020-07-23</td>\n",
       "      <td>15510481</td>\n",
       "    </tr>\n",
       "    <tr>\n",
       "      <th>184</th>\n",
       "      <td>2020-07-24</td>\n",
       "      <td>15791645</td>\n",
       "    </tr>\n",
       "    <tr>\n",
       "      <th>185</th>\n",
       "      <td>2020-07-25</td>\n",
       "      <td>16047190</td>\n",
       "    </tr>\n",
       "    <tr>\n",
       "      <th>186</th>\n",
       "      <td>2020-07-26</td>\n",
       "      <td>16251796</td>\n",
       "    </tr>\n",
       "    <tr>\n",
       "      <th>187</th>\n",
       "      <td>2020-07-27</td>\n",
       "      <td>16480485</td>\n",
       "    </tr>\n",
       "  </tbody>\n",
       "</table>\n",
       "<p>188 rows × 2 columns</p>\n",
       "</div>"
      ],
      "text/plain": [
       "           Date  Confirmed\n",
       "0    2020-01-22        555\n",
       "1    2020-01-23        654\n",
       "2    2020-01-24        941\n",
       "3    2020-01-25       1434\n",
       "4    2020-01-26       2118\n",
       "..          ...        ...\n",
       "183  2020-07-23   15510481\n",
       "184  2020-07-24   15791645\n",
       "185  2020-07-25   16047190\n",
       "186  2020-07-26   16251796\n",
       "187  2020-07-27   16480485\n",
       "\n",
       "[188 rows x 2 columns]"
      ]
     },
     "execution_count": 30,
     "metadata": {},
     "output_type": "execute_result"
    }
   ],
   "source": [
    "Confirmed=df.groupby(by='Date')['Confirmed'].sum().reset_index()\n",
    "Confirmed"
   ]
  },
  {
   "cell_type": "markdown",
   "metadata": {
    "id": "mOH5e7qddsLm"
   },
   "source": [
    "# Visualize the above ones"
   ]
  },
  {
   "cell_type": "code",
   "execution_count": 33,
   "metadata": {
    "colab": {
     "base_uri": "https://localhost:8080/",
     "height": 609
    },
    "id": "Fi4A9TQ-ZO6G",
    "outputId": "d35bbb69-d320-442b-aaf5-b7e4201d6739"
   },
   "outputs": [
    {
     "data": {
      "image/png": "[encoded data removed]",
      "text/plain": [
       "<Figure size 2000x700 with 1 Axes>"
      ]
     },
     "metadata": {},
     "output_type": "display_data"
    }
   ],
   "source": [
    "plt.figure(figsize=(20,7))\n",
    "sns.lineplot(Confirmed,x='Date',y='Confirmed',color='Green')\n",
    "plt.xticks(rotation=90)\n",
    "plt.show()"
   ]
  },
  {
   "cell_type": "markdown",
   "metadata": {
    "id": "i_dtd-S3eXky"
   },
   "source": [
    "# **Now let's find out the top 10 countries for recovered , deaths and active cases**"
   ]
  },
  {
   "cell_type": "markdown",
   "metadata": {
    "id": "xL2gmvfvefPz"
   },
   "source": [
    "# 1. Recovered Cases for top 10"
   ]
  },
  {
   "cell_type": "code",
   "execution_count": 37,
   "metadata": {
    "colab": {
     "base_uri": "https://localhost:8080/",
     "height": 363
    },
    "id": "UzfUyN7AZO3X",
    "outputId": "7e975ec5-ce4d-43c4-a492-31f479996d2a"
   },
   "outputs": [
    {
     "data": {
      "text/html": [
       "<div>\n",
       "<style scoped>\n",
       "    .dataframe tbody tr th:only-of-type {\n",
       "        vertical-align: middle;\n",
       "    }\n",
       "\n",
       "    .dataframe tbody tr th {\n",
       "        vertical-align: top;\n",
       "    }\n",
       "\n",
       "    .dataframe thead th {\n",
       "        text-align: right;\n",
       "    }\n",
       "</style>\n",
       "<table border=\"1\" class=\"dataframe\">\n",
       "  <thead>\n",
       "    <tr style=\"text-align: right;\">\n",
       "      <th></th>\n",
       "      <th>Country</th>\n",
       "      <th>Recovered</th>\n",
       "    </tr>\n",
       "  </thead>\n",
       "  <tbody>\n",
       "    <tr>\n",
       "      <th>0</th>\n",
       "      <td>US</td>\n",
       "      <td>56353416</td>\n",
       "    </tr>\n",
       "    <tr>\n",
       "      <th>1</th>\n",
       "      <td>Brazil</td>\n",
       "      <td>54492873</td>\n",
       "    </tr>\n",
       "    <tr>\n",
       "      <th>2</th>\n",
       "      <td>Russia</td>\n",
       "      <td>25120448</td>\n",
       "    </tr>\n",
       "    <tr>\n",
       "      <th>3</th>\n",
       "      <td>India</td>\n",
       "      <td>23783720</td>\n",
       "    </tr>\n",
       "    <tr>\n",
       "      <th>4</th>\n",
       "      <td>Germany</td>\n",
       "      <td>17107839</td>\n",
       "    </tr>\n",
       "    <tr>\n",
       "      <th>5</th>\n",
       "      <td>Italy</td>\n",
       "      <td>15673910</td>\n",
       "    </tr>\n",
       "    <tr>\n",
       "      <th>6</th>\n",
       "      <td>Iran</td>\n",
       "      <td>15200895</td>\n",
       "    </tr>\n",
       "    <tr>\n",
       "      <th>7</th>\n",
       "      <td>Spain</td>\n",
       "      <td>15093583</td>\n",
       "    </tr>\n",
       "    <tr>\n",
       "      <th>8</th>\n",
       "      <td>Turkey</td>\n",
       "      <td>13345389</td>\n",
       "    </tr>\n",
       "    <tr>\n",
       "      <th>9</th>\n",
       "      <td>Chile</td>\n",
       "      <td>13292593</td>\n",
       "    </tr>\n",
       "  </tbody>\n",
       "</table>\n",
       "</div>"
      ],
      "text/plain": [
       "   Country  Recovered\n",
       "0       US   56353416\n",
       "1   Brazil   54492873\n",
       "2   Russia   25120448\n",
       "3    India   23783720\n",
       "4  Germany   17107839\n",
       "5    Italy   15673910\n",
       "6     Iran   15200895\n",
       "7    Spain   15093583\n",
       "8   Turkey   13345389\n",
       "9    Chile   13292593"
      ]
     },
     "execution_count": 37,
     "metadata": {},
     "output_type": "execute_result"
    }
   ],
   "source": [
    "top_10_recovered=df.groupby(by='Country')['Recovered'].sum().sort_values(ascending=False).head(10).reset_index()\n",
    "top_10_recovered"
   ]
  },
  {
   "cell_type": "markdown",
   "metadata": {
    "id": "tecOYVDOf9sG"
   },
   "source": [
    "# Visualize for top-10-recovered"
   ]
  },
  {
   "cell_type": "code",
   "execution_count": 40,
   "metadata": {
    "colab": {
     "base_uri": "https://localhost:8080/",
     "height": 513
    },
    "id": "352pCb-vf8oP",
    "outputId": "fa999cfe-4eba-4daa-aac6-23b052ffb57e"
   },
   "outputs": [
    {
     "data": {
      "image/png": "[encoded data removed]",
      "text/plain": [
       "<Figure size 640x480 with 1 Axes>"
      ]
     },
     "metadata": {},
     "output_type": "display_data"
    }
   ],
   "source": [
    "sns.barplot(data=top_10_recovered,x='Country',y='Recovered')\n",
    "plt.title('Top_10_Recovered countries')\n",
    "plt.xticks(rotation=45)\n",
    "plt.show()"
   ]
  },
  {
   "cell_type": "markdown",
   "metadata": {
    "id": "0uYb7KJagbGR"
   },
   "source": [
    "# 2. Deaths Cases for Top-10 :"
   ]
  },
  {
   "cell_type": "code",
   "execution_count": 43,
   "metadata": {
    "colab": {
     "base_uri": "https://localhost:8080/",
     "height": 363
    },
    "id": "4ZqBD9Fzf8kr",
    "outputId": "2a561742-63d7-48cc-981f-bffb1b84730a"
   },
   "outputs": [
    {
     "data": {
      "text/html": [
       "<div>\n",
       "<style scoped>\n",
       "    .dataframe tbody tr th:only-of-type {\n",
       "        vertical-align: middle;\n",
       "    }\n",
       "\n",
       "    .dataframe tbody tr th {\n",
       "        vertical-align: top;\n",
       "    }\n",
       "\n",
       "    .dataframe thead th {\n",
       "        text-align: right;\n",
       "    }\n",
       "</style>\n",
       "<table border=\"1\" class=\"dataframe\">\n",
       "  <thead>\n",
       "    <tr style=\"text-align: right;\">\n",
       "      <th></th>\n",
       "      <th>Country</th>\n",
       "      <th>Deaths</th>\n",
       "    </tr>\n",
       "  </thead>\n",
       "  <tbody>\n",
       "    <tr>\n",
       "      <th>0</th>\n",
       "      <td>US</td>\n",
       "      <td>11011411</td>\n",
       "    </tr>\n",
       "    <tr>\n",
       "      <th>1</th>\n",
       "      <td>United Kingdom</td>\n",
       "      <td>3997775</td>\n",
       "    </tr>\n",
       "    <tr>\n",
       "      <th>2</th>\n",
       "      <td>Brazil</td>\n",
       "      <td>3938034</td>\n",
       "    </tr>\n",
       "    <tr>\n",
       "      <th>3</th>\n",
       "      <td>Italy</td>\n",
       "      <td>3707717</td>\n",
       "    </tr>\n",
       "    <tr>\n",
       "      <th>4</th>\n",
       "      <td>France</td>\n",
       "      <td>3048524</td>\n",
       "    </tr>\n",
       "    <tr>\n",
       "      <th>5</th>\n",
       "      <td>Spain</td>\n",
       "      <td>3033030</td>\n",
       "    </tr>\n",
       "    <tr>\n",
       "      <th>6</th>\n",
       "      <td>Mexico</td>\n",
       "      <td>1728277</td>\n",
       "    </tr>\n",
       "    <tr>\n",
       "      <th>7</th>\n",
       "      <td>India</td>\n",
       "      <td>1111831</td>\n",
       "    </tr>\n",
       "    <tr>\n",
       "      <th>8</th>\n",
       "      <td>Iran</td>\n",
       "      <td>1024136</td>\n",
       "    </tr>\n",
       "    <tr>\n",
       "      <th>9</th>\n",
       "      <td>Belgium</td>\n",
       "      <td>963679</td>\n",
       "    </tr>\n",
       "  </tbody>\n",
       "</table>\n",
       "</div>"
      ],
      "text/plain": [
       "          Country    Deaths\n",
       "0              US  11011411\n",
       "1  United Kingdom   3997775\n",
       "2          Brazil   3938034\n",
       "3           Italy   3707717\n",
       "4          France   3048524\n",
       "5           Spain   3033030\n",
       "6          Mexico   1728277\n",
       "7           India   1111831\n",
       "8            Iran   1024136\n",
       "9         Belgium    963679"
      ]
     },
     "execution_count": 43,
     "metadata": {},
     "output_type": "execute_result"
    }
   ],
   "source": [
    "top_10_deaths=df.groupby(by='Country')['Deaths'].sum().sort_values(ascending=False).head(10).reset_index()\n",
    "top_10_deaths"
   ]
  },
  {
   "cell_type": "markdown",
   "metadata": {
    "id": "QLZsy1b-g0Hk"
   },
   "source": [
    "# Visualize the above ones :"
   ]
  },
  {
   "cell_type": "code",
   "execution_count": 46,
   "metadata": {
    "colab": {
     "base_uri": "https://localhost:8080/",
     "height": 546
    },
    "id": "Gi77DhHGf8iI",
    "outputId": "57b18887-1985-43df-bae5-235b35337a69"
   },
   "outputs": [
    {
     "data": {
      "image/png": "[encoded data removed]",
      "text/plain": [
       "<Figure size 640x480 with 1 Axes>"
      ]
     },
     "metadata": {},
     "output_type": "display_data"
    }
   ],
   "source": [
    "sns.barplot(data=top_10_deaths,x='Country',y='Deaths')\n",
    "plt.title(\"Top_10_countries with Death Rate\")\n",
    "plt.xticks(rotation=45)\n",
    "plt.show()"
   ]
  },
  {
   "cell_type": "markdown",
   "metadata": {
    "id": "RIypXZR5hSyS"
   },
   "source": [
    "# 3. Active Cases for Top-10 :"
   ]
  },
  {
   "cell_type": "code",
   "execution_count": 49,
   "metadata": {
    "colab": {
     "base_uri": "https://localhost:8080/",
     "height": 363
    },
    "id": "tIZjq2oRf8fU",
    "outputId": "8ddb2bb9-0c52-4bb6-f1de-2fad15f8f27e"
   },
   "outputs": [
    {
     "data": {
      "text/html": [
       "<div>\n",
       "<style scoped>\n",
       "    .dataframe tbody tr th:only-of-type {\n",
       "        vertical-align: middle;\n",
       "    }\n",
       "\n",
       "    .dataframe tbody tr th {\n",
       "        vertical-align: top;\n",
       "    }\n",
       "\n",
       "    .dataframe thead th {\n",
       "        text-align: right;\n",
       "    }\n",
       "</style>\n",
       "<table border=\"1\" class=\"dataframe\">\n",
       "  <thead>\n",
       "    <tr style=\"text-align: right;\">\n",
       "      <th></th>\n",
       "      <th>Country</th>\n",
       "      <th>Active</th>\n",
       "    </tr>\n",
       "  </thead>\n",
       "  <tbody>\n",
       "    <tr>\n",
       "      <th>0</th>\n",
       "      <td>US</td>\n",
       "      <td>156981121</td>\n",
       "    </tr>\n",
       "    <tr>\n",
       "      <th>1</th>\n",
       "      <td>Brazil</td>\n",
       "      <td>31094060</td>\n",
       "    </tr>\n",
       "    <tr>\n",
       "      <th>2</th>\n",
       "      <td>United Kingdom</td>\n",
       "      <td>22624595</td>\n",
       "    </tr>\n",
       "    <tr>\n",
       "      <th>3</th>\n",
       "      <td>Russia</td>\n",
       "      <td>19668578</td>\n",
       "    </tr>\n",
       "    <tr>\n",
       "      <th>4</th>\n",
       "      <td>India</td>\n",
       "      <td>15987913</td>\n",
       "    </tr>\n",
       "    <tr>\n",
       "      <th>5</th>\n",
       "      <td>France</td>\n",
       "      <td>10980287</td>\n",
       "    </tr>\n",
       "    <tr>\n",
       "      <th>6</th>\n",
       "      <td>Spain</td>\n",
       "      <td>9277432</td>\n",
       "    </tr>\n",
       "    <tr>\n",
       "      <th>7</th>\n",
       "      <td>Canada</td>\n",
       "      <td>8656985</td>\n",
       "    </tr>\n",
       "    <tr>\n",
       "      <th>8</th>\n",
       "      <td>Peru</td>\n",
       "      <td>7748957</td>\n",
       "    </tr>\n",
       "    <tr>\n",
       "      <th>9</th>\n",
       "      <td>Italy</td>\n",
       "      <td>7363518</td>\n",
       "    </tr>\n",
       "  </tbody>\n",
       "</table>\n",
       "</div>"
      ],
      "text/plain": [
       "          Country     Active\n",
       "0              US  156981121\n",
       "1          Brazil   31094060\n",
       "2  United Kingdom   22624595\n",
       "3          Russia   19668578\n",
       "4           India   15987913\n",
       "5          France   10980287\n",
       "6           Spain    9277432\n",
       "7          Canada    8656985\n",
       "8            Peru    7748957\n",
       "9           Italy    7363518"
      ]
     },
     "execution_count": 49,
     "metadata": {},
     "output_type": "execute_result"
    }
   ],
   "source": [
    "top_10_active=df.groupby(by='Country')['Active'].sum().sort_values(ascending=False).head(10).reset_index()\n",
    "top_10_active"
   ]
  },
  {
   "cell_type": "markdown",
   "metadata": {
    "id": "n2YagJvxhrZp"
   },
   "source": [
    "# Visualize the above ones :"
   ]
  },
  {
   "cell_type": "code",
   "execution_count": 52,
   "metadata": {
    "colab": {
     "base_uri": "https://localhost:8080/",
     "height": 546
    },
    "id": "Ht_FLBqgf8cj",
    "outputId": "5c113373-ff56-4efe-d7d2-8beae5ae261b"
   },
   "outputs": [
    {
     "data": {
      "image/png": "[encoded data removed]",
      "text/plain": [
       "<Figure size 640x480 with 1 Axes>"
      ]
     },
     "metadata": {},
     "output_type": "display_data"
    }
   ],
   "source": [
    "sns.barplot(data=top_10_active,x='Country',y='Active')\n",
    "plt.title(\"top_10 countries with Active Cases\")\n",
    "plt.xticks(rotation=45)\n",
    "plt.show()"
   ]
  },
  {
   "cell_type": "markdown",
   "metadata": {
    "id": "znY13CGLfwBU"
   },
   "source": [
    "# **Let us see the top 3 countries US , China & India specifically for Confirmed , Death and Recovered cases.**"
   ]
  },
  {
   "cell_type": "code",
   "execution_count": 55,
   "metadata": {
    "id": "gkkxUCy_ajIX"
   },
   "outputs": [],
   "source": [
    "US=df[(df['Country']==\"US\")]\n",
    "China=df[df['Country']=='China']\n",
    "India=df[df['Country']==\"India\"]"
   ]
  },
  {
   "cell_type": "markdown",
   "metadata": {
    "id": "xLGzeV5pnzGc"
   },
   "source": [
    "# Confirmed Data :"
   ]
  },
  {
   "cell_type": "code",
   "execution_count": 58,
   "metadata": {
    "colab": {
     "base_uri": "https://localhost:8080/",
     "height": 616
    },
    "id": "V_5Aoa-frnD4",
    "outputId": "595721c3-df36-48e5-a146-85b9af11818c"
   },
   "outputs": [
    {
     "data": {
      "image/png": "[encoded data removed]",
      "text/plain": [
       "<Figure size 2000x700 with 1 Axes>"
      ]
     },
     "metadata": {},
     "output_type": "display_data"
    }
   ],
   "source": [
    "US_confirmed=pd.DataFrame(US,columns=['Date','Confirmed'])            # RED\n",
    "China_confirmed=pd.DataFrame(China,columns=['Date','Confirmed'])      # BLUE\n",
    "India_confirmed=pd.DataFrame(India,columns=['Date','Confirmed'])      # GREEN\n",
    "\n",
    "# plotting the confirmed cases in these 3 countries\n",
    "\n",
    "plt.figure(figsize=(20,7))\n",
    "sns.pointplot(data=US_confirmed,x='Date',y='Confirmed',color='red',label='US',marker='*',markersize=5)\n",
    "sns.pointplot(data=China_confirmed,x='Date',y='Confirmed',color='blue',label=\"China\",marker='D',markersize=5)\n",
    "sns.pointplot(data=India_confirmed,x='Date',y='Confirmed',color='green',linestyle='--',label=\"India\",marker='o',markersize=5)\n",
    "plt.legend(title='Country',loc='best',edgecolor='black')\n",
    "plt.xticks(rotation=90)\n",
    "plt.show()"
   ]
  },
  {
   "cell_type": "markdown",
   "metadata": {
    "id": "a6FYB5hTnWC-"
   },
   "source": [
    "# Insights:\n",
    "\n",
    "* US has more confirmed cases with increase of time.\n",
    "\n",
    "* India has increase in cases but not more than US.\n",
    "\n",
    "* China maintained a constant, while no increase in cases with time."
   ]
  },
  {
   "cell_type": "markdown",
   "metadata": {
    "id": "bMfUofHnoKIZ"
   },
   "source": [
    "# Deaths Data :"
   ]
  },
  {
   "cell_type": "code",
   "execution_count": 61,
   "metadata": {
    "colab": {
     "base_uri": "https://localhost:8080/",
     "height": 589
    },
    "id": "JJOF3Is9ajDS",
    "outputId": "2c69c91b-066c-448f-cd9c-9aa0a946fcce"
   },
   "outputs": [
    {
     "data": {
      "image/png": "[encoded data removed]",
      "text/plain": [
       "<Figure size 2000x700 with 1 Axes>"
      ]
     },
     "metadata": {},
     "output_type": "display_data"
    }
   ],
   "source": [
    "US_death=pd.DataFrame(US,columns=['Date','Deaths'])            # RED\n",
    "China_death=pd.DataFrame(China,columns=['Date','Deaths'])         # BLUE\n",
    "India_death=pd.DataFrame(India,columns=['Date','Deaths'])         # GREEN\n",
    "\n",
    "# plotting the deaths data of these 3 countries\n",
    "plt.figure(figsize=(20,7))\n",
    "sns.lineplot(US_death,x='Date',y='Deaths',color='red',linestyle='-.',label='US')\n",
    "sns.lineplot(China_death,x='Date',y='Deaths',color='blue',linestyle='-.',label='China')\n",
    "sns.lineplot(India_death,x='Date',y='Deaths',color='green',linestyle='-.',label='India')\n",
    "plt.legend(title='Country',loc='best')\n",
    "plt.xticks(rotation=90)\n",
    "plt.show()"
   ]
  },
  {
   "cell_type": "markdown",
   "metadata": {
    "id": "6cPgXvMrt_iG"
   },
   "source": [
    "# Insights:\n",
    "\n",
    "* US have high Death rate over the time.\n",
    "* India have less death rate as compare to US.\n",
    "* China have a constant , death rate as of same we have seen in confirmed cases ."
   ]
  },
  {
   "cell_type": "markdown",
   "metadata": {
    "id": "kWD6uzaWucAJ"
   },
   "source": [
    "# Recovered Data :"
   ]
  },
  {
   "cell_type": "code",
   "execution_count": 64,
   "metadata": {
    "colab": {
     "base_uri": "https://localhost:8080/",
     "height": 613
    },
    "id": "ePfQpTHGubqf",
    "outputId": "675cdb78-12f3-499c-8383-b2a04562ec1f"
   },
   "outputs": [
    {
     "data": {
      "image/png": "[encoded data removed]",
      "text/plain": [
       "<Figure size 2000x700 with 1 Axes>"
      ]
     },
     "metadata": {},
     "output_type": "display_data"
    }
   ],
   "source": [
    "US_recovered=pd.DataFrame(US,columns=['Date','Recovered'])            # RED\n",
    "China_recovered=pd.DataFrame(China,columns=['Date','Recovered'])         # BLUE\n",
    "India_recoverd=pd.DataFrame(India,columns=['Date','Recovered'])         # GREEN\n",
    "\n",
    "\n",
    "# plotting the recovered data of these 3 countries\n",
    "plt.figure(figsize=(20,7))\n",
    "sns.lineplot(US_recovered,x='Date',y='Recovered',color='red',linestyle='-.',label='US')\n",
    "sns.lineplot(China_recovered,x='Date',y='Recovered',color='blue',linestyle='-.',label='China')\n",
    "sns.lineplot(India_recoverd,x='Date',y='Recovered',color='green',linestyle='-.',label='India')\n",
    "plt.legend(title='Country',loc='best')\n",
    "plt.xticks(rotation=90)\n",
    "plt.show()\n"
   ]
  },
  {
   "cell_type": "markdown",
   "metadata": {
    "id": "TVs7BvJ5vNql"
   },
   "source": [
    "# Insights:\n",
    "\n",
    "* US and India have recovery rate.\n",
    "* no recovery rate in China."
   ]
  },
  {
   "cell_type": "markdown",
   "metadata": {
    "id": "KUbe4oRXvjEi"
   },
   "source": [
    "# Active Cases :"
   ]
  },
  {
   "cell_type": "code",
   "execution_count": 67,
   "metadata": {
    "colab": {
     "base_uri": "https://localhost:8080/",
     "height": 611
    },
    "id": "pJ58Q_XhubnB",
    "outputId": "6eeddd99-3f44-4a3d-ccd1-ae1c643c10d4"
   },
   "outputs": [
    {
     "data": {
      "image/png": "[encoded data removed]",
      "text/plain": [
       "<Figure size 2000x700 with 1 Axes>"
      ]
     },
     "metadata": {},
     "output_type": "display_data"
    }
   ],
   "source": [
    "US_active=pd.DataFrame(US,columns=['Date','Active'])            # RED\n",
    "China_active=pd.DataFrame(China,columns=['Date','Active'])         # BLUE\n",
    "India_active=pd.DataFrame(India,columns=['Date','Active'])         # GREEN\n",
    "\n",
    "# plotting the active data of these three countries : -\n",
    "\n",
    "plt.figure(figsize=(20,7))\n",
    "sns.pointplot(US_active,x='Date',y='Active',color='red',linestyle='-.',label='US')\n",
    "sns.pointplot(China_active,x='Date',y='Active',color='blue',linestyle='-.',label='China')\n",
    "sns.pointplot(India_active,x='Date',y='Active',color='green',linestyle='-.',label='India')\n",
    "plt.legend(title='Country',loc='best')\n",
    "plt.xticks(rotation=90)\n",
    "plt.show()"
   ]
  },
  {
   "cell_type": "markdown",
   "metadata": {
    "id": "YR401f4EwROr"
   },
   "source": [
    "# Insights:\n",
    "\n",
    "* US have highest no. of active cases.\n",
    "\n",
    "* India have less active cases as compared to US.\n",
    "\n",
    "* China is constant, as no activity on the China data."
   ]
  },
  {
   "cell_type": "code",
   "execution_count": null,
   "metadata": {
    "id": "obnKvONXubkW"
   },
   "outputs": [],
   "source": []
  },
  {
   "cell_type": "markdown",
   "metadata": {
    "id": "VQXixlJYO77R"
   },
   "source": [
    "# **Let's Forecast for next 7 Days for every category of cases**"
   ]
  },
  {
   "cell_type": "markdown",
   "metadata": {
    "id": "YCxSCEfFSPP3"
   },
   "source": [
    "# loading dataset again: -"
   ]
  },
  {
   "cell_type": "code",
   "execution_count": 100,
   "metadata": {
    "colab": {
     "base_uri": "https://localhost:8080/",
     "height": 423
    },
    "id": "v1XEVIUbubh2",
    "outputId": "e865a89b-398c-455b-cc5b-5a9d877658e9"
   },
   "outputs": [
    {
     "data": {
      "text/html": [
       "<div>\n",
       "<style scoped>\n",
       "    .dataframe tbody tr th:only-of-type {\n",
       "        vertical-align: middle;\n",
       "    }\n",
       "\n",
       "    .dataframe tbody tr th {\n",
       "        vertical-align: top;\n",
       "    }\n",
       "\n",
       "    .dataframe thead th {\n",
       "        text-align: right;\n",
       "    }\n",
       "</style>\n",
       "<table border=\"1\" class=\"dataframe\">\n",
       "  <thead>\n",
       "    <tr style=\"text-align: right;\">\n",
       "      <th></th>\n",
       "      <th>Province/State</th>\n",
       "      <th>Country/Region</th>\n",
       "      <th>Lat</th>\n",
       "      <th>Long</th>\n",
       "      <th>Date</th>\n",
       "      <th>Confirmed</th>\n",
       "      <th>Deaths</th>\n",
       "      <th>Recovered</th>\n",
       "      <th>Active</th>\n",
       "      <th>WHO Region</th>\n",
       "    </tr>\n",
       "  </thead>\n",
       "  <tbody>\n",
       "    <tr>\n",
       "      <th>0</th>\n",
       "      <td>NaN</td>\n",
       "      <td>Afghanistan</td>\n",
       "      <td>33.939110</td>\n",
       "      <td>67.709953</td>\n",
       "      <td>2020-01-22</td>\n",
       "      <td>0</td>\n",
       "      <td>0</td>\n",
       "      <td>0</td>\n",
       "      <td>0</td>\n",
       "      <td>Eastern Mediterranean</td>\n",
       "    </tr>\n",
       "    <tr>\n",
       "      <th>1</th>\n",
       "      <td>NaN</td>\n",
       "      <td>Albania</td>\n",
       "      <td>41.153300</td>\n",
       "      <td>20.168300</td>\n",
       "      <td>2020-01-22</td>\n",
       "      <td>0</td>\n",
       "      <td>0</td>\n",
       "      <td>0</td>\n",
       "      <td>0</td>\n",
       "      <td>Europe</td>\n",
       "    </tr>\n",
       "    <tr>\n",
       "      <th>2</th>\n",
       "      <td>NaN</td>\n",
       "      <td>Algeria</td>\n",
       "      <td>28.033900</td>\n",
       "      <td>1.659600</td>\n",
       "      <td>2020-01-22</td>\n",
       "      <td>0</td>\n",
       "      <td>0</td>\n",
       "      <td>0</td>\n",
       "      <td>0</td>\n",
       "      <td>Africa</td>\n",
       "    </tr>\n",
       "    <tr>\n",
       "      <th>3</th>\n",
       "      <td>NaN</td>\n",
       "      <td>Andorra</td>\n",
       "      <td>42.506300</td>\n",
       "      <td>1.521800</td>\n",
       "      <td>2020-01-22</td>\n",
       "      <td>0</td>\n",
       "      <td>0</td>\n",
       "      <td>0</td>\n",
       "      <td>0</td>\n",
       "      <td>Europe</td>\n",
       "    </tr>\n",
       "    <tr>\n",
       "      <th>4</th>\n",
       "      <td>NaN</td>\n",
       "      <td>Angola</td>\n",
       "      <td>-11.202700</td>\n",
       "      <td>17.873900</td>\n",
       "      <td>2020-01-22</td>\n",
       "      <td>0</td>\n",
       "      <td>0</td>\n",
       "      <td>0</td>\n",
       "      <td>0</td>\n",
       "      <td>Africa</td>\n",
       "    </tr>\n",
       "    <tr>\n",
       "      <th>...</th>\n",
       "      <td>...</td>\n",
       "      <td>...</td>\n",
       "      <td>...</td>\n",
       "      <td>...</td>\n",
       "      <td>...</td>\n",
       "      <td>...</td>\n",
       "      <td>...</td>\n",
       "      <td>...</td>\n",
       "      <td>...</td>\n",
       "      <td>...</td>\n",
       "    </tr>\n",
       "    <tr>\n",
       "      <th>49063</th>\n",
       "      <td>NaN</td>\n",
       "      <td>Sao Tome and Principe</td>\n",
       "      <td>0.186400</td>\n",
       "      <td>6.613100</td>\n",
       "      <td>2020-07-27</td>\n",
       "      <td>865</td>\n",
       "      <td>14</td>\n",
       "      <td>734</td>\n",
       "      <td>117</td>\n",
       "      <td>Africa</td>\n",
       "    </tr>\n",
       "    <tr>\n",
       "      <th>49064</th>\n",
       "      <td>NaN</td>\n",
       "      <td>Yemen</td>\n",
       "      <td>15.552727</td>\n",
       "      <td>48.516388</td>\n",
       "      <td>2020-07-27</td>\n",
       "      <td>1691</td>\n",
       "      <td>483</td>\n",
       "      <td>833</td>\n",
       "      <td>375</td>\n",
       "      <td>Eastern Mediterranean</td>\n",
       "    </tr>\n",
       "    <tr>\n",
       "      <th>49065</th>\n",
       "      <td>NaN</td>\n",
       "      <td>Comoros</td>\n",
       "      <td>-11.645500</td>\n",
       "      <td>43.333300</td>\n",
       "      <td>2020-07-27</td>\n",
       "      <td>354</td>\n",
       "      <td>7</td>\n",
       "      <td>328</td>\n",
       "      <td>19</td>\n",
       "      <td>Africa</td>\n",
       "    </tr>\n",
       "    <tr>\n",
       "      <th>49066</th>\n",
       "      <td>NaN</td>\n",
       "      <td>Tajikistan</td>\n",
       "      <td>38.861000</td>\n",
       "      <td>71.276100</td>\n",
       "      <td>2020-07-27</td>\n",
       "      <td>7235</td>\n",
       "      <td>60</td>\n",
       "      <td>6028</td>\n",
       "      <td>1147</td>\n",
       "      <td>Europe</td>\n",
       "    </tr>\n",
       "    <tr>\n",
       "      <th>49067</th>\n",
       "      <td>NaN</td>\n",
       "      <td>Lesotho</td>\n",
       "      <td>-29.610000</td>\n",
       "      <td>28.233600</td>\n",
       "      <td>2020-07-27</td>\n",
       "      <td>505</td>\n",
       "      <td>12</td>\n",
       "      <td>128</td>\n",
       "      <td>365</td>\n",
       "      <td>Africa</td>\n",
       "    </tr>\n",
       "  </tbody>\n",
       "</table>\n",
       "<p>49068 rows × 10 columns</p>\n",
       "</div>"
      ],
      "text/plain": [
       "      Province/State         Country/Region        Lat       Long       Date  \\\n",
       "0                NaN            Afghanistan  33.939110  67.709953 2020-01-22   \n",
       "1                NaN                Albania  41.153300  20.168300 2020-01-22   \n",
       "2                NaN                Algeria  28.033900   1.659600 2020-01-22   \n",
       "3                NaN                Andorra  42.506300   1.521800 2020-01-22   \n",
       "4                NaN                 Angola -11.202700  17.873900 2020-01-22   \n",
       "...              ...                    ...        ...        ...        ...   \n",
       "49063            NaN  Sao Tome and Principe   0.186400   6.613100 2020-07-27   \n",
       "49064            NaN                  Yemen  15.552727  48.516388 2020-07-27   \n",
       "49065            NaN                Comoros -11.645500  43.333300 2020-07-27   \n",
       "49066            NaN             Tajikistan  38.861000  71.276100 2020-07-27   \n",
       "49067            NaN                Lesotho -29.610000  28.233600 2020-07-27   \n",
       "\n",
       "       Confirmed  Deaths  Recovered  Active             WHO Region  \n",
       "0              0       0          0       0  Eastern Mediterranean  \n",
       "1              0       0          0       0                 Europe  \n",
       "2              0       0          0       0                 Africa  \n",
       "3              0       0          0       0                 Europe  \n",
       "4              0       0          0       0                 Africa  \n",
       "...          ...     ...        ...     ...                    ...  \n",
       "49063        865      14        734     117                 Africa  \n",
       "49064       1691     483        833     375  Eastern Mediterranean  \n",
       "49065        354       7        328      19                 Africa  \n",
       "49066       7235      60       6028    1147                 Europe  \n",
       "49067        505      12        128     365                 Africa  \n",
       "\n",
       "[49068 rows x 10 columns]"
      ]
     },
     "execution_count": 100,
     "metadata": {},
     "output_type": "execute_result"
    }
   ],
   "source": [
    "data=pd.read_csv(R\"C:\\Users\\hp\\OneDrive\\Desktop\\covid_19_clean_complete.csv\",parse_dates=['Date'])\n",
    "# parse_date will change the Date columns to date_time datatype\n",
    "\n",
    "data"
   ]
  },
  {
   "cell_type": "code",
   "execution_count": 102,
   "metadata": {
    "colab": {
     "base_uri": "https://localhost:8080/"
    },
    "id": "jnj_obc9WTmc",
    "outputId": "e4ba4fba-b51f-4659-8b4f-1a35156988c4"
   },
   "outputs": [
    {
     "name": "stdout",
     "output_type": "stream",
     "text": [
      "<class 'pandas.core.frame.DataFrame'>\n",
      "RangeIndex: 49068 entries, 0 to 49067\n",
      "Data columns (total 10 columns):\n",
      " #   Column          Non-Null Count  Dtype         \n",
      "---  ------          --------------  -----         \n",
      " 0   Province/State  14664 non-null  object        \n",
      " 1   Country/Region  49068 non-null  object        \n",
      " 2   Lat             49068 non-null  float64       \n",
      " 3   Long            49068 non-null  float64       \n",
      " 4   Date            49068 non-null  datetime64[ns]\n",
      " 5   Confirmed       49068 non-null  int64         \n",
      " 6   Deaths          49068 non-null  int64         \n",
      " 7   Recovered       49068 non-null  int64         \n",
      " 8   Active          49068 non-null  int64         \n",
      " 9   WHO Region      49068 non-null  object        \n",
      "dtypes: datetime64[ns](1), float64(2), int64(4), object(3)\n",
      "memory usage: 3.7+ MB\n"
     ]
    }
   ],
   "source": [
    "data.info()"
   ]
  },
  {
   "cell_type": "markdown",
   "metadata": {
    "id": "4RyYUhfQWpS_"
   },
   "source": [
    "# creating different Datasets for predictions"
   ]
  },
  {
   "cell_type": "code",
   "execution_count": 105,
   "metadata": {
    "id": "OmuGK5vnWTi5"
   },
   "outputs": [],
   "source": [
    "# creating new dataset for \"confirmed\"\n",
    "\n",
    "confirmed=data.groupby(by='Date').sum()['Confirmed'].reset_index()\n",
    "\n",
    "# creating new dataset for \"recovered\"\n",
    "\n",
    "recovered=data.groupby(by='Date').sum()['Recovered'].reset_index()\n",
    "\n",
    "# creating new dataset for \"Deaths\"\n",
    "\n",
    "deaths=data.groupby(by='Date').sum()['Deaths'].reset_index()\n",
    "\n",
    "# creating new dataset for \"Active\"\n",
    "\n",
    "active=data.groupby(by='Date').sum()['Active'].reset_index()"
   ]
  },
  {
   "cell_type": "markdown",
   "metadata": {
    "id": "kj91t0RcXgmk"
   },
   "source": [
    "# 1. Let us Forecast for \"Confirmed Cases\" :"
   ]
  },
  {
   "cell_type": "code",
   "execution_count": 108,
   "metadata": {
    "colab": {
     "base_uri": "https://localhost:8080/",
     "height": 206
    },
    "id": "CqpEufslWTgJ",
    "outputId": "56f3dad3-c5a0-4792-e2e3-95445f42941d"
   },
   "outputs": [
    {
     "data": {
      "text/html": [
       "<div>\n",
       "<style scoped>\n",
       "    .dataframe tbody tr th:only-of-type {\n",
       "        vertical-align: middle;\n",
       "    }\n",
       "\n",
       "    .dataframe tbody tr th {\n",
       "        vertical-align: top;\n",
       "    }\n",
       "\n",
       "    .dataframe thead th {\n",
       "        text-align: right;\n",
       "    }\n",
       "</style>\n",
       "<table border=\"1\" class=\"dataframe\">\n",
       "  <thead>\n",
       "    <tr style=\"text-align: right;\">\n",
       "      <th></th>\n",
       "      <th>ds</th>\n",
       "      <th>y</th>\n",
       "    </tr>\n",
       "  </thead>\n",
       "  <tbody>\n",
       "    <tr>\n",
       "      <th>0</th>\n",
       "      <td>2020-01-22</td>\n",
       "      <td>555</td>\n",
       "    </tr>\n",
       "    <tr>\n",
       "      <th>1</th>\n",
       "      <td>2020-01-23</td>\n",
       "      <td>654</td>\n",
       "    </tr>\n",
       "    <tr>\n",
       "      <th>2</th>\n",
       "      <td>2020-01-24</td>\n",
       "      <td>941</td>\n",
       "    </tr>\n",
       "    <tr>\n",
       "      <th>3</th>\n",
       "      <td>2020-01-25</td>\n",
       "      <td>1434</td>\n",
       "    </tr>\n",
       "    <tr>\n",
       "      <th>4</th>\n",
       "      <td>2020-01-26</td>\n",
       "      <td>2118</td>\n",
       "    </tr>\n",
       "  </tbody>\n",
       "</table>\n",
       "</div>"
      ],
      "text/plain": [
       "          ds     y\n",
       "0 2020-01-22   555\n",
       "1 2020-01-23   654\n",
       "2 2020-01-24   941\n",
       "3 2020-01-25  1434\n",
       "4 2020-01-26  2118"
      ]
     },
     "execution_count": 108,
     "metadata": {},
     "output_type": "execute_result"
    }
   ],
   "source": [
    "# renaming the columns of confirmed dataset\n",
    "\n",
    "confirmed.columns=['ds','y']\n",
    "\n",
    "confirmed.head()"
   ]
  },
  {
   "cell_type": "markdown",
   "metadata": {
    "id": "no8n_lwWScZ0"
   },
   "source": [
    "# installing Prophet"
   ]
  },
  {
   "cell_type": "code",
   "execution_count": null,
   "metadata": {
    "colab": {
     "base_uri": "https://localhost:8080/"
    },
    "id": "i44kPJzsubfY",
    "outputId": "5e8d4b89-f9bb-4eeb-f5d3-f1cae24caae9"
   },
   "outputs": [],
   "source": [
    "!pip install prophet"
   ]
  },
  {
   "cell_type": "code",
   "execution_count": null,
   "metadata": {
    "id": "ByaQ_Gr4ubc9"
   },
   "outputs": [],
   "source": [
    "# importing Libararies :-\n",
    "\n",
    "from prophet import Prophet"
   ]
  },
  {
   "cell_type": "code",
   "execution_count": null,
   "metadata": {
    "id": "HzTaVcY4ubab"
   },
   "outputs": [],
   "source": [
    "model = Prophet()"
   ]
  },
  {
   "cell_type": "code",
   "execution_count": null,
   "metadata": {
    "colab": {
     "base_uri": "https://localhost:8080/"
    },
    "id": "jbN8I-wZubXx",
    "outputId": "ae121c1d-d20b-4937-c71a-0d63611d438a"
   },
   "outputs": [],
   "source": [
    "model.fit(confirmed)"
   ]
  },
  {
   "cell_type": "code",
   "execution_count": null,
   "metadata": {
    "id": "Mn_3G8XCubVO"
   },
   "outputs": [],
   "source": [
    "future=model.make_future_dataframe(periods=7,freq='D')"
   ]
  },
  {
   "cell_type": "markdown",
   "metadata": {
    "id": "HYmES5CUYSe6"
   },
   "source": [
    "# forecasting :"
   ]
  },
  {
   "cell_type": "code",
   "execution_count": null,
   "metadata": {
    "colab": {
     "base_uri": "https://localhost:8080/",
     "height": 269
    },
    "id": "XfOuQL-FubSz",
    "outputId": "9e5de85c-5160-4543-d1dc-826ae9186245"
   },
   "outputs": [],
   "source": [
    "forecast=model.predict(future)\n",
    "forecast[['ds','yhat','yhat_upper','yhat_lower']].tail(7)  #predicted"
   ]
  },
  {
   "cell_type": "markdown",
   "metadata": {
    "id": "UKzSEfXxYPRG"
   },
   "source": [
    "# Visualize"
   ]
  },
  {
   "cell_type": "code",
   "execution_count": null,
   "metadata": {
    "colab": {
     "base_uri": "https://localhost:8080/",
     "height": 614
    },
    "id": "iWZJ11qwUv9u",
    "outputId": "a1de7795-b747-42d0-a8de-797c88e01ce6"
   },
   "outputs": [],
   "source": [
    "model.plot(forecast)\n",
    "plt.title(\"Forecast of Confirmed_Cases\")\n",
    "plt.show()"
   ]
  },
  {
   "cell_type": "markdown",
   "metadata": {
    "id": "C6f2wRZ_YpG6"
   },
   "source": [
    "# Insights:\n",
    "\n",
    "* \"dots\" shows the datapoints or the values of the dataset(confirmed).\n",
    "* 'extended blue line' shows the predicted values for 7 days."
   ]
  },
  {
   "cell_type": "markdown",
   "metadata": {
    "id": "FME9HqkIi9vD"
   },
   "source": [
    "# 2. Let's Forecast for Recovered Cases"
   ]
  },
  {
   "cell_type": "code",
   "execution_count": null,
   "metadata": {
    "colab": {
     "base_uri": "https://localhost:8080/",
     "height": 206
    },
    "id": "-aYRqxKHUv3c",
    "outputId": "9c3c01e5-8962-451c-86fa-9a3bfba5654d"
   },
   "outputs": [],
   "source": [
    "# renaming the columns of recovered dataset\n",
    "\n",
    "recovered.columns=['ds','y']\n",
    "\n",
    "recovered.head()"
   ]
  },
  {
   "cell_type": "markdown",
   "metadata": {
    "id": "l3b156FqkJlB"
   },
   "source": [
    "# Model & Forecast"
   ]
  },
  {
   "cell_type": "code",
   "execution_count": null,
   "metadata": {
    "colab": {
     "base_uri": "https://localhost:8080/",
     "height": 479
    },
    "id": "pvNb4NjMUv0h",
    "outputId": "f0661916-5006-40f8-ce9b-8f28eeba5e7a"
   },
   "outputs": [],
   "source": [
    "model01=Prophet()\n",
    "model01.fit(recovered)\n",
    "\n",
    "future01=model01.make_future_dataframe(periods=7,freq='D')\n",
    "\n",
    "forecast01=model01.predict(future01)\n",
    "forecast01[['ds','yhat','yhat_upper','yhat_lower']].tail(7)"
   ]
  },
  {
   "cell_type": "markdown",
   "metadata": {
    "id": "DSxwuvzbkWKK"
   },
   "source": [
    "# visualize"
   ]
  },
  {
   "cell_type": "code",
   "execution_count": null,
   "metadata": {
    "colab": {
     "base_uri": "https://localhost:8080/",
     "height": 614
    },
    "id": "DaAghu8rkZoI",
    "outputId": "4ec13673-2502-4b44-8cd0-5e5ad246f1b2"
   },
   "outputs": [],
   "source": [
    "model01.plot(forecast01)\n",
    "plt.title(\"Forecast of Recovered_Cases\")\n",
    "plt.show()"
   ]
  },
  {
   "cell_type": "markdown",
   "metadata": {
    "id": "UZX1l3btra4f"
   },
   "source": [
    "# Insights:\n",
    "\n",
    "* \"dots\" shows the datapoints or the values of the dataset(recovered).\n",
    "* 'extended blue line' shows the predicted values for 7 days."
   ]
  },
  {
   "cell_type": "markdown",
   "metadata": {
    "id": "DPhmSJ0hlAIG"
   },
   "source": [
    "# 3. Let's Forecast for Death Cases"
   ]
  },
  {
   "cell_type": "code",
   "execution_count": null,
   "metadata": {
    "colab": {
     "base_uri": "https://localhost:8080/",
     "height": 206
    },
    "id": "Omqd5xGxkZkr",
    "outputId": "b3b919d5-3343-4ff0-8587-2ca54fa61535"
   },
   "outputs": [],
   "source": [
    "# renaming for columns of dataset deaths\n",
    "\n",
    "deaths.columns=['ds','y']\n",
    "deaths.head()"
   ]
  },
  {
   "cell_type": "markdown",
   "metadata": {
    "id": "dRkHFzd5lszn"
   },
   "source": [
    "# Model and Forecast"
   ]
  },
  {
   "cell_type": "code",
   "execution_count": null,
   "metadata": {
    "colab": {
     "base_uri": "https://localhost:8080/",
     "height": 479
    },
    "id": "fdS5OORLkZhv",
    "outputId": "54d3be15-15bb-4bb9-f04d-74a980485df5"
   },
   "outputs": [],
   "source": [
    "model02=Prophet()\n",
    "model02.fit(deaths)\n",
    "\n",
    "future02=model02.make_future_dataframe(periods=7,freq='D')\n",
    "\n",
    "forecast02=model02.predict(future02)\n",
    "forecast02[['ds','yhat','yhat_upper','yhat_lower']].tail(7)"
   ]
  },
  {
   "cell_type": "markdown",
   "metadata": {
    "id": "4W4xMkVNmgTS"
   },
   "source": [
    "# Visualize"
   ]
  },
  {
   "cell_type": "code",
   "execution_count": null,
   "metadata": {
    "colab": {
     "base_uri": "https://localhost:8080/",
     "height": 629
    },
    "id": "0z8w19CxkZeh",
    "outputId": "1e90fae0-dc82-4153-fd6d-31ad6e22d0a2"
   },
   "outputs": [],
   "source": [
    "model02.plot(forecast02)\n",
    "plt.title(\"Forecast for death cases\")\n",
    "plt.show()"
   ]
  },
  {
   "cell_type": "markdown",
   "metadata": {
    "id": "9YmCC1BOre45"
   },
   "source": [
    "# Insights:\n",
    "\n",
    "* \"dots\" shows the datapoints or the values of the dataset(deaths).\n",
    "* 'extended blue line' shows the predicted values for 7 days."
   ]
  },
  {
   "cell_type": "markdown",
   "metadata": {
    "id": "onGSn6aBnYzf"
   },
   "source": [
    "# 4. Let's Forecast for the Active Cases :"
   ]
  },
  {
   "cell_type": "code",
   "execution_count": null,
   "metadata": {
    "colab": {
     "base_uri": "https://localhost:8080/",
     "height": 206
    },
    "id": "1Y0isLddkZb1",
    "outputId": "4283e729-efdb-4e21-e707-3b955214979c"
   },
   "outputs": [],
   "source": [
    "# renaming the columns of Active dataset\n",
    "\n",
    "active.columns=['ds','y']\n",
    "active.head()"
   ]
  },
  {
   "cell_type": "markdown",
   "metadata": {
    "id": "6xOpPZhpqQLa"
   },
   "source": [
    "# Model and Forecast"
   ]
  },
  {
   "cell_type": "code",
   "execution_count": null,
   "metadata": {
    "colab": {
     "base_uri": "https://localhost:8080/",
     "height": 479
    },
    "id": "us9xxrgGp0Yp",
    "outputId": "1d1a44b1-7d1c-4342-96c8-b9e732db1fa5"
   },
   "outputs": [],
   "source": [
    "model03=Prophet()\n",
    "model03.fit(active)\n",
    "\n",
    "future03=model03.make_future_dataframe(periods=7,freq='D')\n",
    "\n",
    "forecast03=model03.predict(future03)\n",
    "forecast03[['ds','yhat','yhat_upper','yhat_lower']].tail(7)"
   ]
  },
  {
   "cell_type": "markdown",
   "metadata": {
    "id": "biHdSU4Fq9ko"
   },
   "source": [
    "# Visualize"
   ]
  },
  {
   "cell_type": "code",
   "execution_count": null,
   "metadata": {
    "colab": {
     "base_uri": "https://localhost:8080/",
     "height": 614
    },
    "id": "vWTQwEjCp0VO",
    "outputId": "b0b0a096-23b5-4eed-f9c5-ea1f1c87ac72"
   },
   "outputs": [],
   "source": [
    "model03.plot(forecast03)\n",
    "plt.title(\"Forecast for Active cases\")\n",
    "plt.show()"
   ]
  },
  {
   "cell_type": "markdown",
   "metadata": {
    "id": "6rlfDiFxriqY"
   },
   "source": [
    "# Insights:\n",
    "\n",
    "* \"dots\" shows the datapoints or the values of the dataset(active).\n",
    "* 'extended blue line' shows the predicted values for 7 days."
   ]
  },
  {
   "cell_type": "markdown",
   "metadata": {
    "id": "077FoSY3rzi9"
   },
   "source": [
    "# **Creating the World Map using Plotly.**"
   ]
  },
  {
   "cell_type": "code",
   "execution_count": null,
   "metadata": {
    "id": "5pd2d7cQp0SW"
   },
   "outputs": [],
   "source": [
    "import plotly\n",
    "import plotly.express as px"
   ]
  },
  {
   "cell_type": "code",
   "execution_count": null,
   "metadata": {
    "colab": {
     "base_uri": "https://localhost:8080/"
    },
    "id": "vt0e6c7xp0Pi",
    "outputId": "633f624e-fb18-4fe0-a186-3cc3043f9eb9"
   },
   "outputs": [],
   "source": [
    "world=df.groupby(by='Country')[['Confirmed','Active','Deaths','Recovered']].sum().reset_index()\n",
    "world.shape"
   ]
  },
  {
   "cell_type": "markdown",
   "metadata": {
    "id": "1BYZnE9iyMx4"
   },
   "source": [
    "# 1. World Map Visual for Active Cases."
   ]
  },
  {
   "cell_type": "code",
   "execution_count": null,
   "metadata": {
    "colab": {
     "base_uri": "https://localhost:8080/",
     "height": 542
    },
    "id": "N1K7qA7Jp0NL",
    "outputId": "5305b5cd-94af-4ba5-e371-314cb3d4a66b"
   },
   "outputs": [],
   "source": [
    "figure_active = px.choropleth(world,locations='Country',\n",
    "                       locationmode='country names',\n",
    "                       color='Active',\n",
    "                       hover_name='Country',range_color=[1,20000],\n",
    "                       color_continuous_scale='Rainbow',\n",
    "                       title='Countries with Active Cases')\n",
    "figure_active.show()"
   ]
  },
  {
   "cell_type": "markdown",
   "metadata": {
    "id": "bl4hojouyVdW"
   },
   "source": [
    "# 2. World Map for Recovered Cases."
   ]
  },
  {
   "cell_type": "code",
   "execution_count": null,
   "metadata": {
    "colab": {
     "base_uri": "https://localhost:8080/",
     "height": 542
    },
    "id": "42-TjImKpzFu",
    "outputId": "3535dd9b-732f-4e44-d647-fbb1d56ae6d8"
   },
   "outputs": [],
   "source": [
    "figure_recovered = px.choropleth(world,locations='Country',\n",
    "                       locationmode='country names',\n",
    "                       color='Recovered',\n",
    "                       hover_name='Country',range_color=[1,20000],\n",
    "                       color_continuous_scale='Darkmint',\n",
    "                       title='Countries with Recovered Cases')\n",
    "figure_recovered.show()"
   ]
  },
  {
   "cell_type": "markdown",
   "metadata": {
    "id": "zStiu_uQysDg"
   },
   "source": [
    "# 3. World Map for Confirmed Cases."
   ]
  },
  {
   "cell_type": "code",
   "execution_count": null,
   "metadata": {
    "colab": {
     "base_uri": "https://localhost:8080/",
     "height": 542
    },
    "id": "gKdkNA5QpzCa",
    "outputId": "b682bb38-3636-42f8-dbcc-8ebc47a42848"
   },
   "outputs": [],
   "source": [
    "figure_confirmed = px.choropleth(world,locations='Country',\n",
    "                       locationmode='country names',\n",
    "                       color='Confirmed',\n",
    "                       hover_name='Country',range_color=[1,20000],\n",
    "                       color_continuous_scale='Agsunset',\n",
    "                       title='Countries with Confirmed Cases')\n",
    "figure_confirmed.show()"
   ]
  },
  {
   "cell_type": "markdown",
   "metadata": {
    "id": "3_ZAmNCfzOrE"
   },
   "source": [
    "# 4. World Map for Deaths Cases."
   ]
  },
  {
   "cell_type": "code",
   "execution_count": null,
   "metadata": {
    "colab": {
     "base_uri": "https://localhost:8080/",
     "height": 542
    },
    "id": "r6uCrpZUpy_Q",
    "outputId": "dd2e4aa5-a9c3-480f-e849-5b22671872e2"
   },
   "outputs": [],
   "source": [
    "figure_deaths = px.choropleth(world,locations='Country',\n",
    "                       locationmode='country names',\n",
    "                       color='Deaths',\n",
    "                       hover_name='Country',range_color=[1,20000],\n",
    "                       color_continuous_scale='haline',\n",
    "                       title='Countries with Deaths Cases')\n",
    "figure_deaths.show()"
   ]
  },
  {
   "cell_type": "markdown",
   "metadata": {
    "id": "pmmDsOEZhmpf"
   },
   "source": [
    "# **The End**"
   ]
  },
  {
   "cell_type": "code",
   "execution_count": null,
   "metadata": {
    "id": "RX7WCUl-pyzt"
   },
   "outputs": [],
   "source": []
  }
 ],
 "metadata": {
  "colab": {
   "provenance": []
  },
  "kernelspec": {
   "display_name": "Python 3 (ipykernel)",
   "language": "python",
   "name": "python3"
  },
  "language_info": {
   "codemirror_mode": {
    "name": "ipython",
    "version": 3
   },
   "file_extension": ".py",
   "mimetype": "text/x-python",
   "name": "python",
   "nbconvert_exporter": "python",
   "pygments_lexer": "ipython3",
   "version": "3.12.7"
  }
 },
 "nbformat": 4,
 "nbformat_minor": 4
}
